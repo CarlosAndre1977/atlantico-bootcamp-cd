{
 "cells": [
  {
   "cell_type": "markdown",
   "id": "aaf746b4-ecf9-4588-bc50-df440da86fc2",
   "metadata": {},
   "source": [
    "O Banco de Dados escolhido foi o Automobile Dataset"
   ]
  },
  {
   "cell_type": "markdown",
   "id": "95558204-c9dd-4c5d-9bf6-46e722609ef1",
   "metadata": {},
   "source": [
    "Descrição dos dados: informações sobre a quantidade de instâncias, variáveis e seus tipos, quantidade de valores faltantes, etc."
   ]
  },
  {
   "cell_type": "code",
   "execution_count": 2,
   "id": "d4fde252-413c-497e-9637-373ec7be2cf8",
   "metadata": {},
   "outputs": [],
   "source": [
    "import pandas as pd\n",
    "import numpy as np\n",
    "import matplotlib.pyplot as plt"
   ]
  },
  {
   "cell_type": "markdown",
   "id": "d9b8cd07-25bf-4f1f-ba49-f8ada2fe9156",
   "metadata": {},
   "source": [
    "Informações sobre os dados"
   ]
  },
  {
   "cell_type": "code",
   "execution_count": 3,
   "id": "fd5f9582-1cca-4f39-acd4-6be0daf63964",
   "metadata": {
    "collapsed": true,
    "jupyter": {
     "outputs_hidden": true
    },
    "tags": []
   },
   "outputs": [
    {
     "name": "stdout",
     "output_type": "stream",
     "text": [
      "<class 'pandas.core.frame.DataFrame'>\n",
      "RangeIndex: 205 entries, 0 to 204\n",
      "Data columns (total 26 columns):\n",
      " #   Column             Non-Null Count  Dtype  \n",
      "---  ------             --------------  -----  \n",
      " 0   symboling          205 non-null    int64  \n",
      " 1   normalized-losses  205 non-null    object \n",
      " 2   make               205 non-null    object \n",
      " 3   fuel-type          205 non-null    object \n",
      " 4   aspiration         205 non-null    object \n",
      " 5   num-of-doors       205 non-null    object \n",
      " 6   body-style         205 non-null    object \n",
      " 7   drive-wheels       205 non-null    object \n",
      " 8   engine-location    205 non-null    object \n",
      " 9   wheel-base         205 non-null    float64\n",
      " 10  length             205 non-null    float64\n",
      " 11  width              205 non-null    float64\n",
      " 12  height             205 non-null    float64\n",
      " 13  curb-weight        205 non-null    int64  \n",
      " 14  engine-type        205 non-null    object \n",
      " 15  num-of-cylinders   205 non-null    object \n",
      " 16  engine-size        205 non-null    int64  \n",
      " 17  fuel-system        205 non-null    object \n",
      " 18  bore               205 non-null    object \n",
      " 19  stroke             205 non-null    object \n",
      " 20  compression-ratio  205 non-null    float64\n",
      " 21  horsepower         205 non-null    object \n",
      " 22  peak-rpm           205 non-null    object \n",
      " 23  city-mpg           205 non-null    int64  \n",
      " 24  highway-mpg        205 non-null    int64  \n",
      " 25  price              205 non-null    object \n",
      "dtypes: float64(5), int64(5), object(16)\n",
      "memory usage: 41.8+ KB\n"
     ]
    }
   ],
   "source": [
    "car_dados = pd.read_csv(\"Automobile_data.csv\",sep=\",\")\n",
    "car_dados.info()"
   ]
  },
  {
   "cell_type": "markdown",
   "id": "9257856e-072b-4d91-a5e8-2ae42e269c97",
   "metadata": {},
   "source": [
    "Lista de Carros com pelo menos um dado Faltante"
   ]
  },
  {
   "cell_type": "code",
   "execution_count": 4,
   "id": "28d0528d-1ac0-47c8-b37e-23eea3fd4f24",
   "metadata": {},
   "outputs": [],
   "source": [
    "marca = car_dados[car_dados[list(car_dados)[1]]==\"?\"][[list(car_dados)[1],list(car_dados)[2]]]"
   ]
  },
  {
   "cell_type": "markdown",
   "id": "e42c2ec6-8cd3-4da2-a2f7-d142df44a748",
   "metadata": {},
   "source": [
    "Remove duplicatas"
   ]
  },
  {
   "cell_type": "code",
   "execution_count": 5,
   "id": "bf23a025-932b-4e6e-8098-cebb121980fb",
   "metadata": {},
   "outputs": [],
   "source": [
    "lista=set(marca[marca.columns[1]])"
   ]
  },
  {
   "cell_type": "markdown",
   "id": "06eb6141-de07-450e-9690-6ae2b02ee963",
   "metadata": {},
   "source": [
    "Gera uma lista de colunas das marcas que possuem valores faltantes"
   ]
  },
  {
   "cell_type": "code",
   "execution_count": 6,
   "id": "1d0f6d44-abbd-4136-a534-ef4ab0136713",
   "metadata": {
    "collapsed": true,
    "jupyter": {
     "outputs_hidden": true
    },
    "tags": []
   },
   "outputs": [
    {
     "data": {
      "text/plain": [
       "['normalized-losses',\n",
       " 'num-of-doors',\n",
       " 'bore',\n",
       " 'stroke',\n",
       " 'horsepower',\n",
       " 'peak-rpm',\n",
       " 'price']"
      ]
     },
     "execution_count": 6,
     "metadata": {},
     "output_type": "execute_result"
    }
   ],
   "source": [
    "i=[0]\n",
    "colunas=[]\n",
    "for i in range(len(car_dados.columns)):\n",
    "    if \"?\" in list(car_dados[car_dados.columns[i]]):\n",
    "       colunas.append(car_dados.columns[i])\n",
    "    \n",
    "        #colunas[i] =  car_dados.columns[i]\n",
    "colunas"
   ]
  },
  {
   "cell_type": "markdown",
   "id": "b886709b-15ba-4953-9e2c-1191ca64a203",
   "metadata": {},
   "source": [
    "Ordena em ordem alfabetica das marcas dos carros e exibe as tabelas necessárias"
   ]
  },
  {
   "cell_type": "code",
   "execution_count": 7,
   "id": "c9dce06b-347d-430f-859c-bb2711f177c6",
   "metadata": {
    "collapsed": true,
    "jupyter": {
     "outputs_hidden": true
    },
    "tags": []
   },
   "outputs": [
    {
     "name": "stdout",
     "output_type": "stream",
     "text": [
      "                                 0\n",
      "make          normalized-losses   \n",
      "alfa-romero   ?                  3\n",
      "audi          ?                  3\n",
      "bmw           ?                  4\n",
      "isuzu         ?                  4\n",
      "jaguar        ?                  2\n",
      "mazda         ?                  2\n",
      "mercedes-benz ?                  3\n",
      "mercury       ?                  1\n",
      "mitsubishi    ?                  3\n",
      "peugot        ?                  4\n",
      "plymouth      ?                  1\n",
      "porsche       ?                  4\n",
      "renault       ?                  2\n",
      "toyota        ?                  1\n",
      "volkswagen    ?                  4\n",
      "                    0\n",
      "make  num-of-doors   \n",
      "dodge ?             1\n",
      "mazda ?             1\n",
      "            0\n",
      "make  bore   \n",
      "mazda ?     4\n",
      "              0\n",
      "make  stroke   \n",
      "mazda ?       4\n",
      "                    0\n",
      "make    horsepower   \n",
      "renault ?           2\n",
      "                  0\n",
      "make    peak-rpm   \n",
      "renault ?         2\n",
      "               0\n",
      "make    price   \n",
      "audi    ?      1\n",
      "isuzu   ?      2\n",
      "porsche ?      1\n"
     ]
    }
   ],
   "source": [
    "for i in range(len(colunas)):\n",
    "    tabela = pd.DataFrame(car_dados[car_dados[colunas[i]]==\"?\"][[list(car_dados)[2],colunas[i]]].value_counts())\n",
    "    print(tabela.sort_index())"
   ]
  },
  {
   "cell_type": "markdown",
   "id": "da2efe51-7818-41ad-8a47-f10dc861cf13",
   "metadata": {},
   "source": [
    "Quantidades de dados faltantes nas respectivas colunas"
   ]
  },
  {
   "cell_type": "code",
   "execution_count": 8,
   "id": "ad448ba6-f20f-4fdc-b5f2-5f0410ae80eb",
   "metadata": {
    "collapsed": true,
    "jupyter": {
     "outputs_hidden": true
    },
    "tags": []
   },
   "outputs": [
    {
     "data": {
      "text/plain": [
       "[0, 41, 0, 0, 0, 2, 0, 0, 0, 0, 0, 0, 0, 0, 0, 0, 0, 0, 4, 4, 0, 2, 2, 0, 0, 4]"
      ]
     },
     "execution_count": 8,
     "metadata": {},
     "output_type": "execute_result"
    }
   ],
   "source": [
    "i=[0]\n",
    "DADOS_FALTANTES = []\n",
    "for i in range(len(car_dados.columns)):\n",
    "    DADOS_FALTANTES.append(len(car_dados[car_dados[car_dados.columns[i]]==\"?\"]))\n",
    "    \n",
    "DADOS_FALTANTES"
   ]
  },
  {
   "cell_type": "markdown",
   "id": "396f1aa0-0e2f-4983-ae65-eca289b66503",
   "metadata": {},
   "source": [
    "DataFrame das colunas e seus dados faltantes"
   ]
  },
  {
   "cell_type": "code",
   "execution_count": 9,
   "id": "0e83ab27-0e5b-4184-b598-b657c872a3f2",
   "metadata": {
    "collapsed": true,
    "jupyter": {
     "outputs_hidden": true
    },
    "tags": []
   },
   "outputs": [
    {
     "data": {
      "text/html": [
       "<div>\n",
       "<style scoped>\n",
       "    .dataframe tbody tr th:only-of-type {\n",
       "        vertical-align: middle;\n",
       "    }\n",
       "\n",
       "    .dataframe tbody tr th {\n",
       "        vertical-align: top;\n",
       "    }\n",
       "\n",
       "    .dataframe thead th {\n",
       "        text-align: right;\n",
       "    }\n",
       "</style>\n",
       "<table border=\"1\" class=\"dataframe\">\n",
       "  <thead>\n",
       "    <tr style=\"text-align: right;\">\n",
       "      <th></th>\n",
       "      <th>Colunas</th>\n",
       "      <th>Dados Faltantes</th>\n",
       "    </tr>\n",
       "  </thead>\n",
       "  <tbody>\n",
       "    <tr>\n",
       "      <th>0</th>\n",
       "      <td>symboling</td>\n",
       "      <td>0</td>\n",
       "    </tr>\n",
       "    <tr>\n",
       "      <th>1</th>\n",
       "      <td>normalized-losses</td>\n",
       "      <td>41</td>\n",
       "    </tr>\n",
       "    <tr>\n",
       "      <th>2</th>\n",
       "      <td>make</td>\n",
       "      <td>0</td>\n",
       "    </tr>\n",
       "    <tr>\n",
       "      <th>3</th>\n",
       "      <td>fuel-type</td>\n",
       "      <td>0</td>\n",
       "    </tr>\n",
       "    <tr>\n",
       "      <th>4</th>\n",
       "      <td>aspiration</td>\n",
       "      <td>0</td>\n",
       "    </tr>\n",
       "    <tr>\n",
       "      <th>5</th>\n",
       "      <td>num-of-doors</td>\n",
       "      <td>2</td>\n",
       "    </tr>\n",
       "    <tr>\n",
       "      <th>6</th>\n",
       "      <td>body-style</td>\n",
       "      <td>0</td>\n",
       "    </tr>\n",
       "    <tr>\n",
       "      <th>7</th>\n",
       "      <td>drive-wheels</td>\n",
       "      <td>0</td>\n",
       "    </tr>\n",
       "    <tr>\n",
       "      <th>8</th>\n",
       "      <td>engine-location</td>\n",
       "      <td>0</td>\n",
       "    </tr>\n",
       "    <tr>\n",
       "      <th>9</th>\n",
       "      <td>wheel-base</td>\n",
       "      <td>0</td>\n",
       "    </tr>\n",
       "    <tr>\n",
       "      <th>10</th>\n",
       "      <td>length</td>\n",
       "      <td>0</td>\n",
       "    </tr>\n",
       "    <tr>\n",
       "      <th>11</th>\n",
       "      <td>width</td>\n",
       "      <td>0</td>\n",
       "    </tr>\n",
       "    <tr>\n",
       "      <th>12</th>\n",
       "      <td>height</td>\n",
       "      <td>0</td>\n",
       "    </tr>\n",
       "    <tr>\n",
       "      <th>13</th>\n",
       "      <td>curb-weight</td>\n",
       "      <td>0</td>\n",
       "    </tr>\n",
       "    <tr>\n",
       "      <th>14</th>\n",
       "      <td>engine-type</td>\n",
       "      <td>0</td>\n",
       "    </tr>\n",
       "    <tr>\n",
       "      <th>15</th>\n",
       "      <td>num-of-cylinders</td>\n",
       "      <td>0</td>\n",
       "    </tr>\n",
       "    <tr>\n",
       "      <th>16</th>\n",
       "      <td>engine-size</td>\n",
       "      <td>0</td>\n",
       "    </tr>\n",
       "    <tr>\n",
       "      <th>17</th>\n",
       "      <td>fuel-system</td>\n",
       "      <td>0</td>\n",
       "    </tr>\n",
       "    <tr>\n",
       "      <th>18</th>\n",
       "      <td>bore</td>\n",
       "      <td>4</td>\n",
       "    </tr>\n",
       "    <tr>\n",
       "      <th>19</th>\n",
       "      <td>stroke</td>\n",
       "      <td>4</td>\n",
       "    </tr>\n",
       "    <tr>\n",
       "      <th>20</th>\n",
       "      <td>compression-ratio</td>\n",
       "      <td>0</td>\n",
       "    </tr>\n",
       "    <tr>\n",
       "      <th>21</th>\n",
       "      <td>horsepower</td>\n",
       "      <td>2</td>\n",
       "    </tr>\n",
       "    <tr>\n",
       "      <th>22</th>\n",
       "      <td>peak-rpm</td>\n",
       "      <td>2</td>\n",
       "    </tr>\n",
       "    <tr>\n",
       "      <th>23</th>\n",
       "      <td>city-mpg</td>\n",
       "      <td>0</td>\n",
       "    </tr>\n",
       "    <tr>\n",
       "      <th>24</th>\n",
       "      <td>highway-mpg</td>\n",
       "      <td>0</td>\n",
       "    </tr>\n",
       "    <tr>\n",
       "      <th>25</th>\n",
       "      <td>price</td>\n",
       "      <td>4</td>\n",
       "    </tr>\n",
       "  </tbody>\n",
       "</table>\n",
       "</div>"
      ],
      "text/plain": [
       "              Colunas  Dados Faltantes\n",
       "0           symboling                0\n",
       "1   normalized-losses               41\n",
       "2                make                0\n",
       "3           fuel-type                0\n",
       "4          aspiration                0\n",
       "5        num-of-doors                2\n",
       "6          body-style                0\n",
       "7        drive-wheels                0\n",
       "8     engine-location                0\n",
       "9          wheel-base                0\n",
       "10             length                0\n",
       "11              width                0\n",
       "12             height                0\n",
       "13        curb-weight                0\n",
       "14        engine-type                0\n",
       "15   num-of-cylinders                0\n",
       "16        engine-size                0\n",
       "17        fuel-system                0\n",
       "18               bore                4\n",
       "19             stroke                4\n",
       "20  compression-ratio                0\n",
       "21         horsepower                2\n",
       "22           peak-rpm                2\n",
       "23           city-mpg                0\n",
       "24        highway-mpg                0\n",
       "25              price                4"
      ]
     },
     "execution_count": 9,
     "metadata": {},
     "output_type": "execute_result"
    }
   ],
   "source": [
    "Col_Dad_Falt = pd.DataFrame({'Colunas': list(car_dados.columns),'Dados Faltantes': DADOS_FALTANTES})\n",
    "Col_Dad_Falt"
   ]
  },
  {
   "cell_type": "markdown",
   "id": "5c768f43-631a-484b-b1f7-0d231944c0b3",
   "metadata": {},
   "source": [
    "Total de dados faltantes"
   ]
  },
  {
   "cell_type": "code",
   "execution_count": 10,
   "id": "f4e6a070-81c2-4acb-b322-ad1d29c8f378",
   "metadata": {
    "collapsed": true,
    "jupyter": {
     "outputs_hidden": true
    },
    "tags": []
   },
   "outputs": [
    {
     "data": {
      "text/plain": [
       "59"
      ]
     },
     "execution_count": 10,
     "metadata": {},
     "output_type": "execute_result"
    }
   ],
   "source": [
    "sum(DADOS_FALTANTES)"
   ]
  },
  {
   "cell_type": "markdown",
   "id": "63505851-aec1-493d-96ef-7afaca2bb6de",
   "metadata": {},
   "source": [
    "Perguntas de partidas e hipóteses: que tipo de informações podem ser obtidas a partir dos dados e quais hipóteses podem ser levantadas?"
   ]
  },
  {
   "cell_type": "markdown",
   "id": "51fbc8e0-f9b4-43c5-b13d-af4b125ccc36",
   "metadata": {},
   "source": [
    "Existe relação entre tamanho do motor e Consumo do Combustíbel?"
   ]
  },
  {
   "cell_type": "markdown",
   "id": "9ececc97-63eb-4076-9f1e-b7c447a3d9b5",
   "metadata": {},
   "source": [
    "Gerando os gráficos de Correlação entre eles"
   ]
  },
  {
   "cell_type": "code",
   "execution_count": 11,
   "id": "27711837-a564-45d6-8e13-b7774c1a90f0",
   "metadata": {
    "collapsed": true,
    "jupyter": {
     "outputs_hidden": true
    },
    "tags": []
   },
   "outputs": [
    {
     "data": {
      "image/png": "[encoded data removed]",
      "text/plain": [
       "<Figure size 720x360 with 1 Axes>"
      ]
     },
     "metadata": {
      "needs_background": "light"
     },
     "output_type": "display_data"
    },
    {
     "data": {
      "image/png": "[encoded data removed]",
      "text/plain": [
       "<Figure size 720x360 with 1 Axes>"
      ]
     },
     "metadata": {
      "needs_background": "light"
     },
     "output_type": "display_data"
    }
   ],
   "source": [
    "fig = plt.figure(figsize=(10,5))#Na Estrada\n",
    "plt.subplot(2,1,1)\n",
    "#plt.plot(x, y)\n",
    "plt.scatter(car_dados[car_dados.columns[16]],car_dados[car_dados.columns[24]])\n",
    "plt.title(\"Gráfico de Correlação na Estrada\\nTamanho do Motor X Milhas/galões\",fontsize=25)\n",
    "plt.xlabel(\"Tamanho do Motor\",fontsize=10)\n",
    "plt.ylabel(\"Milhas/Galões\",fontsize=10)\n",
    "plt.xlim(min(car_dados[car_dados.columns[16]]),max(car_dados[car_dados.columns[16]]))\n",
    "plt.ylim(min(car_dados[car_dados.columns[24]]),max(car_dados[car_dados.columns[24]]))\n",
    "\n",
    "car_dados1=car_dados.sort_values(by=car_dados.columns[25])\n",
    "fig = plt.figure(figsize=(10,5))#Na Cidade\n",
    "#plt.plot(x, y)\n",
    "plt.subplot(2,1,2)\n",
    "plt.scatter(car_dados1[car_dados1.columns[16]],car_dados1[car_dados1.columns[23]])\n",
    "plt.title(\"Gráfico de Correlação na Cidade\\nTamanho do Motor X Milhas/galões\",fontsize=25)\n",
    "plt.xlabel(\"Tamanho do Motor\",fontsize=10)\n",
    "plt.ylabel(\"Milhas/Galões\",fontsize=10)\n",
    "plt.xlim(min(car_dados1[car_dados1.columns[16]]),max(car_dados1[car_dados1.columns[16]]))\n",
    "plt.ylim(min(car_dados1[car_dados1.columns[23]]),max(car_dados1[car_dados1.columns[23]]))\n",
    "plt.show()"
   ]
  },
  {
   "cell_type": "markdown",
   "id": "fc81048f-82ee-4bba-9551-7b05959f923b",
   "metadata": {},
   "source": [
    "Gerando gráfico Único de Correlação entre eles"
   ]
  },
  {
   "cell_type": "code",
   "execution_count": 12,
   "id": "a2d819dc-d1a8-4cfe-91b5-acb6c4d2137a",
   "metadata": {
    "collapsed": true,
    "jupyter": {
     "outputs_hidden": true
    },
    "tags": []
   },
   "outputs": [
    {
     "data": {
      "image/png": "[encoded data removed]",
      "text/plain": [
       "<Figure size 720x360 with 1 Axes>"
      ]
     },
     "metadata": {
      "needs_background": "light"
     },
     "output_type": "display_data"
    }
   ],
   "source": [
    "fig = plt.figure(figsize=(10,5))#Na Estrada\n",
    "plt.subplot(2,1,1)\n",
    "plt.scatter(car_dados[car_dados.columns[16]],car_dados[car_dados.columns[24]])\n",
    "plt.title(\"Gráfico de Correlação\\nTamanho do Motor X Milhas/galões\",fontsize=25)\n",
    "plt.xlabel(\"Tamanho do Motor\",fontsize=10)\n",
    "plt.ylabel(\"Milhas/Galões\",fontsize=10)\n",
    "plt.xlim(min(car_dados[car_dados.columns[16]]),max(car_dados[car_dados.columns[16]]))\n",
    "plt.ylim(min(car_dados[car_dados.columns[24]]),max(car_dados[car_dados.columns[24]]))\n",
    "\n",
    "car_dados1=car_dados.sort_values(by=car_dados.columns[25])\n",
    "plt.scatter(car_dados1[car_dados1.columns[16]],car_dados1[car_dados1.columns[23]])\n",
    "plt.title(\"Gráfico de Correlação\\nTamanho do Motor X Milhas/galões\",fontsize=25)\n",
    "plt.xlabel(\"Tamanho do Motor\",fontsize=10)\n",
    "plt.ylabel(\"Milhas/Galões\",fontsize=10)\n",
    "plt.legend([list(car_dados.columns)[24],list(car_dados.columns)[23]])\n",
    "plt.xlim(min(car_dados1[car_dados1.columns[16]]),max(car_dados1[car_dados1.columns[16]]))\n",
    "plt.ylim(min(car_dados1[car_dados1.columns[23]]),max(car_dados1[car_dados1.columns[23]]))\n",
    "plt.show()"
   ]
  },
  {
   "cell_type": "markdown",
   "id": "80ec67f6-8433-4241-8b31-c78bdfe4d6ac",
   "metadata": {},
   "source": [
    "Insights: respostas às perguntas feitas na seção anterior e quais informações interessantes podem ser levantadas através dos dados?"
   ]
  },
  {
   "cell_type": "markdown",
   "id": "21165a4e-4d3e-4edf-9a82-321bcffa341d",
   "metadata": {},
   "source": [
    "R: Não se pode afirmar se há correlação significativa entre tamanho do motor e o consumo de combustível, pois seria necessário um estudo mais aprofundado devido a influência do tamanho do corpo e o tipo de combustível de cada veículo e com isso geraria mais gastos em tempo e recursos financeiros."
   ]
  }
 ],
 "metadata": {
  "kernelspec": {
   "display_name": "Python 3 (ipykernel)",
   "language": "python",
   "name": "python3"
  },
  "language_info": {
   "codemirror_mode": {
    "name": "ipython",
    "version": 3
   },
   "file_extension": ".py",
   "mimetype": "text/x-python",
   "name": "python",
   "nbconvert_exporter": "python",
   "pygments_lexer": "ipython3",
   "version": "3.8.10"
  }
 },
 "nbformat": 4,
 "nbformat_minor": 5
}
